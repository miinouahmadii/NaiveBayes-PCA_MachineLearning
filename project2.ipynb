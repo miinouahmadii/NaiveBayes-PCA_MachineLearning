{
  "nbformat": 4,
  "nbformat_minor": 0,
  "metadata": {
    "colab": {
      "name": "Untitled4.ipynb",
      "provenance": [],
      "collapsed_sections": []
    },
    "kernelspec": {
      "name": "python3",
      "display_name": "Python 3"
    },
    "language_info": {
      "name": "python"
    }
  },
  "cells": [
    {
      "cell_type": "code",
      "execution_count": 23,
      "metadata": {
        "id": "PW9toh_GmKi3"
      },
      "outputs": [],
      "source": [
        "import numpy as np\n",
        "import pandas as pd\n",
        "import matplotlib.pyplot as plt\n",
        "import seaborn as sns\n",
        "from sklearn.model_selection import train_test_split\n",
        "from sklearn.preprocessing import StandardScaler\n",
        "from sklearn.naive_bayes import BernoulliNB\n",
        "from sklearn.naive_bayes import GaussianNB\n",
        "from sklearn.metrics import accuracy_score\n",
        "from sklearn.metrics import confusion_matrix"
      ]
    },
    {
      "cell_type": "code",
      "source": [
        "dataset = pd.read_csv('Breast_cancer_data.csv')"
      ],
      "metadata": {
        "id": "7nuTKfP4oGJk"
      },
      "execution_count": 24,
      "outputs": []
    },
    {
      "cell_type": "code",
      "source": [
        "x = dataset.iloc[:,0:5]\n",
        "y = dataset['diagnosis']\n",
        "X_train,X_test , Y_train, Y_test = train_test_split(x,y,test_size=0.25,random_state=0)\n",
        "sc_X = StandardScaler()\n",
        "X_std = sc_X.fit_transform(x)\n",
        "X_train = sc_X.fit_transform(X_train)\n",
        "X_test = sc_X.fit_transform(X_test)"
      ],
      "metadata": {
        "id": "1w0WuEjcpuc-"
      },
      "execution_count": 25,
      "outputs": []
    },
    {
      "cell_type": "code",
      "source": [
        "classifier1 = GaussianNB()\n",
        "classifier1.fit(X_train,Y_train)\n",
        "Y_pred = classifier1.predict(X_test)\n",
        "print(confusion_matrix(Y_test,Y_pred))\n",
        "print(accuracy_score(Y_pred,Y_test))"
      ],
      "metadata": {
        "colab": {
          "base_uri": "https://localhost:8080/"
        },
        "id": "jEZqjDjxudqx",
        "outputId": "54b44636-0614-4276-bac2-469589d9c043"
      },
      "execution_count": 26,
      "outputs": [
        {
          "output_type": "stream",
          "name": "stdout",
          "text": [
            "[[46  7]\n",
            " [ 4 86]]\n",
            "0.9230769230769231\n"
          ]
        }
      ]
    },
    {
      "cell_type": "code",
      "source": [
        "cov_mat = np.cov(X_std.T)\n",
        "eig_vals , eig_vecs = np.linalg.eig(cov_mat)\n",
        "eig_pairs = [(np.abs(eig_vals[i]),eig_vecs[:,i]) for i in range(len(eig_vals))]\n",
        "print(eig_pairs)"
      ],
      "metadata": {
        "colab": {
          "base_uri": "https://localhost:8080/"
        },
        "id": "LGZl-LQ5vMRr",
        "outputId": "7cea014d-de3b-446d-d6b9-c46a2243fa44"
      },
      "execution_count": 27,
      "outputs": [
        {
          "output_type": "stream",
          "name": "stdout",
          "text": [
            "[(3.1779263772362496, array([0.55371341, 0.24687793, 0.55562001, 0.55179039, 0.1388039 ])), (0.00139760342213733, array([ 0.70990216,  0.00714976, -0.70359047, -0.01400078,  0.02742701])), (0.01662165450666038, array([-0.3987202 ,  0.00514554, -0.41807654,  0.81614814,  0.01048524])), (0.7899679994812961, array([-0.17451457,  0.80887797, -0.14438462, -0.17093468,  0.51497137])), (1.0228891822550665, array([-0.0026939 , -0.53356361,  0.02473754,  0.00385895,  0.84538499]))]\n"
          ]
        }
      ]
    },
    {
      "cell_type": "code",
      "source": [
        "eig_pairs.sort()\n",
        "eig_pairs.reverse()\n"
      ],
      "metadata": {
        "id": "Celn_3JnyZhr"
      },
      "execution_count": 28,
      "outputs": []
    },
    {
      "cell_type": "code",
      "source": [
        "tot = sum(eig_vals)\n",
        "var_exp = [(i/tot)*100 for i in sorted(eig_vals, reverse=True)]\n",
        "print(var_exp)"
      ],
      "metadata": {
        "colab": {
          "base_uri": "https://localhost:8080/"
        },
        "id": "l9P235XfywG7",
        "outputId": "0aa21b25-9296-4f3e-fac4-d3d99a78ee44"
      },
      "execution_count": 29,
      "outputs": [
        {
          "output_type": "stream",
          "name": "stdout",
          "text": [
            "[63.44682538735288, 20.421829719538756, 15.771593100364715, 0.3318488492015147, 0.027902943542144225]\n"
          ]
        }
      ]
    },
    {
      "cell_type": "code",
      "source": [
        "matrix_w = np.hstack((eig_pairs[0][1].reshape(5,1),\n",
        "                      eig_pairs[1][1].reshape(5,1),\n",
        "                      eig_pairs[2][1].reshape(5,1)))\n",
        "print(matrix_w)"
      ],
      "metadata": {
        "colab": {
          "base_uri": "https://localhost:8080/"
        },
        "id": "PYeRO5kozHlT",
        "outputId": "a5f8ac76-5965-4787-ee79-7c9ac2f3db37"
      },
      "execution_count": 30,
      "outputs": [
        {
          "output_type": "stream",
          "name": "stdout",
          "text": [
            "[[ 0.55371341 -0.0026939  -0.17451457]\n",
            " [ 0.24687793 -0.53356361  0.80887797]\n",
            " [ 0.55562001  0.02473754 -0.14438462]\n",
            " [ 0.55179039  0.00385895 -0.17093468]\n",
            " [ 0.1388039   0.84538499  0.51497137]]\n"
          ]
        }
      ]
    },
    {
      "cell_type": "code",
      "source": [
        "X_reduce = np.dot((X_std),matrix_w)\n",
        "print(X_reduce)\n",
        "print(type(X_reduce))"
      ],
      "metadata": {
        "colab": {
          "base_uri": "https://localhost:8080/"
        },
        "id": "IMQTUvqA0r8R",
        "outputId": "ebdf0a26-8dbc-4fde-aa37-ac28bb7bfe31"
      },
      "execution_count": 31,
      "outputs": [
        {
          "output_type": "stream",
          "name": "stdout",
          "text": [
            "[[ 1.56207679  2.4644723  -1.4124361 ]\n",
            " [ 2.8010636  -0.46627365 -1.60092817]\n",
            " [ 2.84876769  0.59363682  0.08585125]\n",
            " ...\n",
            " [ 1.46986963 -1.78499745  0.90331942]\n",
            " [ 3.86552291  0.09399861  1.77196288]\n",
            " [-2.88347973 -3.32802642  0.19359216]]\n",
            "<class 'numpy.ndarray'>\n"
          ]
        }
      ]
    },
    {
      "cell_type": "code",
      "source": [
        "df_reduce = pd.DataFrame(X_reduce, columns = ['Column_A','Column_B','Column_C'])\n",
        "df_reduce['diagnosis'] = dataset['diagnosis']\n",
        "#df_reduce.head()\n",
        "#print(df_reduce)\n",
        "x_reduce = df_reduce.iloc[:,0:3]\n",
        "y_reduce = df_reduce['diagnosis']\n",
        "df_reduce.head()\n",
        "print(x_reduce)\n",
        "X_train_reduce,X_test_reduce , Y_train_reduce, Y_test_reduce = train_test_split(x_reduce,y_reduce,test_size=0.25,random_state=0)\n",
        "X_train_reduce = sc_X.fit_transform(X_train_reduce)\n",
        "X_test_reduce = sc_X.fit_transform(X_test_reduce)\n"
      ],
      "metadata": {
        "id": "Jj5NPfXO2OUB",
        "colab": {
          "base_uri": "https://localhost:8080/"
        },
        "outputId": "8c3f5069-a4a7-4f04-c3d5-258b98c4147a"
      },
      "execution_count": 32,
      "outputs": [
        {
          "output_type": "stream",
          "name": "stdout",
          "text": [
            "     Column_A  Column_B  Column_C\n",
            "0    1.562077  2.464472 -1.412436\n",
            "1    2.801064 -0.466274 -1.600928\n",
            "2    2.848768  0.593637  0.085851\n",
            "3   -0.658477  2.624944  2.246609\n",
            "4    2.718517  0.897870 -1.661423\n",
            "..        ...       ...       ...\n",
            "564  3.929944  0.550143  0.053511\n",
            "565  3.322039 -0.983901  0.913880\n",
            "566  1.469870 -1.784997  0.903319\n",
            "567  3.865523  0.093999  1.771963\n",
            "568 -2.883480 -3.328026  0.193592\n",
            "\n",
            "[569 rows x 3 columns]\n"
          ]
        }
      ]
    },
    {
      "cell_type": "code",
      "source": [
        "classifier1 = GaussianNB()\n",
        "classifier1.fit(X_train_reduce,Y_train_reduce)\n",
        "Y_pred_reduce = classifier1.predict(X_test_reduce)\n",
        "print(confusion_matrix(Y_test_reduce,Y_pred_reduce))\n",
        "print(accuracy_score(Y_pred_reduce,Y_test_reduce))"
      ],
      "metadata": {
        "colab": {
          "base_uri": "https://localhost:8080/"
        },
        "id": "2ArY1JWS7x38",
        "outputId": "5792436d-1fde-416e-bc31-f5f4a3831f12"
      },
      "execution_count": 33,
      "outputs": [
        {
          "output_type": "stream",
          "name": "stdout",
          "text": [
            "[[46  7]\n",
            " [ 6 84]]\n",
            "0.9090909090909091\n"
          ]
        }
      ]
    }
  ]
}