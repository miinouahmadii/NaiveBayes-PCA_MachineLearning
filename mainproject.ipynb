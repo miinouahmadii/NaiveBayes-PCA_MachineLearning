{
  "nbformat": 4,
  "nbformat_minor": 0,
  "metadata": {
    "colab": {
      "name": "Untitled7.ipynb",
      "provenance": [],
      "collapsed_sections": []
    },
    "kernelspec": {
      "name": "python3",
      "display_name": "Python 3"
    },
    "language_info": {
      "name": "python"
    }
  },
  "cells": [
    {
      "cell_type": "code",
      "execution_count": 197,
      "metadata": {
        "id": "GxjUlL8eQ3DC",
        "colab": {
          "base_uri": "https://localhost:8080/"
        },
        "outputId": "5d2d1f27-5b79-40f2-eaae-3840f808e26a"
      },
      "outputs": [
        {
          "output_type": "stream",
          "name": "stdout",
          "text": [
            "Looking in indexes: https://pypi.org/simple, https://us-python.pkg.dev/colab-wheels/public/simple/\n",
            "Requirement already satisfied: ipython-autotime in /usr/local/lib/python3.7/dist-packages (0.3.1)\n",
            "Requirement already satisfied: ipython in /usr/local/lib/python3.7/dist-packages (from ipython-autotime) (5.5.0)\n",
            "Requirement already satisfied: traitlets>=4.2 in /usr/local/lib/python3.7/dist-packages (from ipython->ipython-autotime) (5.1.1)\n",
            "Requirement already satisfied: prompt-toolkit<2.0.0,>=1.0.4 in /usr/local/lib/python3.7/dist-packages (from ipython->ipython-autotime) (1.0.18)\n",
            "Requirement already satisfied: simplegeneric>0.8 in /usr/local/lib/python3.7/dist-packages (from ipython->ipython-autotime) (0.8.1)\n",
            "Requirement already satisfied: decorator in /usr/local/lib/python3.7/dist-packages (from ipython->ipython-autotime) (4.4.2)\n",
            "Requirement already satisfied: pickleshare in /usr/local/lib/python3.7/dist-packages (from ipython->ipython-autotime) (0.7.5)\n",
            "Requirement already satisfied: setuptools>=18.5 in /usr/local/lib/python3.7/dist-packages (from ipython->ipython-autotime) (57.4.0)\n",
            "Requirement already satisfied: pygments in /usr/local/lib/python3.7/dist-packages (from ipython->ipython-autotime) (2.6.1)\n",
            "Requirement already satisfied: pexpect in /usr/local/lib/python3.7/dist-packages (from ipython->ipython-autotime) (4.8.0)\n",
            "Requirement already satisfied: wcwidth in /usr/local/lib/python3.7/dist-packages (from prompt-toolkit<2.0.0,>=1.0.4->ipython->ipython-autotime) (0.2.5)\n",
            "Requirement already satisfied: six>=1.9.0 in /usr/local/lib/python3.7/dist-packages (from prompt-toolkit<2.0.0,>=1.0.4->ipython->ipython-autotime) (1.15.0)\n",
            "Requirement already satisfied: ptyprocess>=0.5 in /usr/local/lib/python3.7/dist-packages (from pexpect->ipython->ipython-autotime) (0.7.0)\n",
            "The autotime extension is already loaded. To reload it, use:\n",
            "  %reload_ext autotime\n",
            "time: 3.37 s (started: 2022-06-10 13:05:34 +00:00)\n"
          ]
        }
      ],
      "source": [
        "import pandas as pd\n",
        "import numpy as np\n",
        "import seaborn as sns\n",
        "from sklearn.metrics import accuracy_score\n",
        "from sklearn.metrics import confusion_matrix\n",
        "from sklearn.preprocessing import StandardScaler\n",
        "!pip install ipython-autotime\n",
        "\n",
        "%load_ext autotime\n",
        "\n",
        "df = pd.read_csv('Breast_cancer_data.csv')\n",
        "x = df.iloc[:,0:5]\n",
        "sc_X = StandardScaler()\n",
        "X_std = sc_X.fit_transform(x)\n"
      ]
    },
    {
      "cell_type": "code",
      "source": [
        "\n",
        "train = df.sample(frac = 0.8, random_state = 1)\n",
        "test = df.drop(train.index)\n",
        "\n",
        "y_train = train[\"diagnosis\"]\n",
        "x_train = train.drop(\"diagnosis\", axis = 1)\n",
        "\n",
        "y_test = test[\"diagnosis\"]\n",
        "x_test = test.drop(\"diagnosis\", axis = 1)\n",
        "\n",
        "means = train.groupby([\"diagnosis\"]).mean() # Estimate mean of each class, feature\n",
        "var = train.groupby([\"diagnosis\"]).var() # Estimate variance of each class, feature\n",
        "prior = (train.groupby(\"diagnosis\").count() / len(train)).iloc[:,1] # Estimate prior probabilities\n",
        "classes = np.unique(train[\"diagnosis\"].tolist()) # Storing all possible classes\n",
        "\n",
        "\n",
        "def Normal(n, mu, var):\n",
        "    \n",
        "    # Function to return pdf of Normal(mu, var) evaluated at x\n",
        "    sd = np.sqrt(var)\n",
        "    pdf = (np.e ** (-0.5 * ((n - mu)/sd) ** 2)) / (sd * np.sqrt(2 * np.pi))\n",
        "    \n",
        "    return pdf\n",
        "\n",
        "def Predict(X,x_tr):\n",
        "    Predictions = []\n",
        "    \n",
        "    for i in X.index: # Loop through each instances\n",
        "        \n",
        "        ClassLikelihood = []\n",
        "        instance = X.loc[i]\n",
        "        \n",
        "        for cls in classes: # Loop through each class\n",
        "            \n",
        "            FeatureLikelihoods = []\n",
        "            FeatureLikelihoods.append(np.log(prior[cls])) # Append log prior of class 'cls'\n",
        "            \n",
        "            for col in x_tr.columns: # Loop through each feature\n",
        "                \n",
        "                data = instance[col]\n",
        "                \n",
        "                mean = means[col].loc[cls] # Find the mean of column 'col' that are in class 'cls'\n",
        "                variance = var[col].loc[cls] # Find the variance of column 'col' that are in class 'cls'\n",
        "                \n",
        "                Likelihood = Normal(data, mean, variance)\n",
        "                \n",
        "                if Likelihood != 0:\n",
        "                    Likelihood = np.log(Likelihood) # Find the log-likelihood evaluated at x\n",
        "                else:\n",
        "                    Likelihood = 1/len(train) \n",
        "                \n",
        "                FeatureLikelihoods.append(Likelihood)\n",
        "                \n",
        "            TotalLikelihood = sum(FeatureLikelihoods) # Calculate posterior\n",
        "            ClassLikelihood.append(TotalLikelihood)\n",
        "            \n",
        "        MaxIndex = ClassLikelihood.index(max(ClassLikelihood)) # Find largest posterior position\n",
        "        Prediction = classes[MaxIndex]\n",
        "        Predictions.append(Prediction)\n",
        "        \n",
        "    return Predictions\n",
        "\n",
        "PredictTrain = Predict(x_train,x_train)\n",
        "PredictTest = Predict(x_test,x_test)"
      ],
      "metadata": {
        "colab": {
          "base_uri": "https://localhost:8080/"
        },
        "id": "_gOO43xAta_6",
        "outputId": "557d3ec9-6089-4eec-9d18-34b1b874c6ff"
      },
      "execution_count": 198,
      "outputs": [
        {
          "output_type": "stream",
          "name": "stdout",
          "text": [
            "time: 392 ms (started: 2022-06-10 13:05:38 +00:00)\n"
          ]
        }
      ]
    },
    {
      "cell_type": "code",
      "source": [
        "def Accuracy(y, prediction):\n",
        "    \n",
        "    # Function to calculate accuracy\n",
        "    y = list(y)\n",
        "    prediction = list(prediction)\n",
        "    score = 0\n",
        "    \n",
        "    for i, j in zip(y, prediction):\n",
        "        if i == j:\n",
        "            score += 1\n",
        "            \n",
        "    return score / len(y)"
      ],
      "metadata": {
        "colab": {
          "base_uri": "https://localhost:8080/"
        },
        "id": "tZbpnD0so76V",
        "outputId": "48d10801-a5b7-4f0d-ce6c-f5d34e397b25"
      },
      "execution_count": 199,
      "outputs": [
        {
          "output_type": "stream",
          "name": "stdout",
          "text": [
            "time: 4.97 ms (started: 2022-06-10 13:05:38 +00:00)\n"
          ]
        }
      ]
    },
    {
      "cell_type": "code",
      "source": [
        "print(Accuracy(y_test, PredictTest))\n",
        "print(confusion_matrix(y_test, PredictTest))\n",
        "#print(accuracy_score(y_test, PredictTest))"
      ],
      "metadata": {
        "colab": {
          "base_uri": "https://localhost:8080/"
        },
        "id": "o8p_kugoS-wz",
        "outputId": "2408ed5c-fb6e-4f95-9ca5-e15ca2c64fd5"
      },
      "execution_count": 200,
      "outputs": [
        {
          "output_type": "stream",
          "name": "stdout",
          "text": [
            "0.8947368421052632\n",
            "[[34 11]\n",
            " [ 1 68]]\n",
            "time: 4.31 ms (started: 2022-06-10 13:05:38 +00:00)\n"
          ]
        }
      ]
    },
    {
      "cell_type": "code",
      "source": [
        "cov_mat = np.cov(X_std.T)\n",
        "eig_vals , eig_vecs = np.linalg.eig(cov_mat)\n",
        "eig_pairs = [(np.abs(eig_vals[i]),eig_vecs[:,i]) for i in range(len(eig_vals))]\n",
        "print(eig_pairs)\n",
        "eig_pairs.sort()\n",
        "eig_pairs.reverse()\n",
        "tot = sum(eig_vals)\n",
        "var_exp = [(i/tot)*100 for i in sorted(eig_vals, reverse=True)]\n",
        "print(var_exp)"
      ],
      "metadata": {
        "colab": {
          "base_uri": "https://localhost:8080/"
        },
        "id": "jBCwS4SeT0xH",
        "outputId": "e6930ab7-81a5-436f-83f2-87464c087879"
      },
      "execution_count": 201,
      "outputs": [
        {
          "output_type": "stream",
          "name": "stdout",
          "text": [
            "[(3.1779263772362496, array([0.55371341, 0.24687793, 0.55562001, 0.55179039, 0.1388039 ])), (0.00139760342213733, array([ 0.70990216,  0.00714976, -0.70359047, -0.01400078,  0.02742701])), (0.01662165450666038, array([-0.3987202 ,  0.00514554, -0.41807654,  0.81614814,  0.01048524])), (0.7899679994812961, array([-0.17451457,  0.80887797, -0.14438462, -0.17093468,  0.51497137])), (1.0228891822550665, array([-0.0026939 , -0.53356361,  0.02473754,  0.00385895,  0.84538499]))]\n",
            "[63.44682538735288, 20.421829719538756, 15.771593100364715, 0.3318488492015147, 0.027902943542144225]\n",
            "time: 9.83 ms (started: 2022-06-10 13:05:38 +00:00)\n"
          ]
        }
      ]
    },
    {
      "cell_type": "code",
      "source": [
        "matrix_w = np.hstack((eig_pairs[0][1].reshape(5,1),\n",
        "                      eig_pairs[1][1].reshape(5,1),\n",
        "                      eig_pairs[2][1].reshape(5,1)))\n",
        "print(matrix_w)"
      ],
      "metadata": {
        "colab": {
          "base_uri": "https://localhost:8080/"
        },
        "id": "di-Me-pQUoBF",
        "outputId": "17b9002e-83bc-4b3a-e971-67f6cf33f316"
      },
      "execution_count": 202,
      "outputs": [
        {
          "output_type": "stream",
          "name": "stdout",
          "text": [
            "[[ 0.55371341 -0.0026939  -0.17451457]\n",
            " [ 0.24687793 -0.53356361  0.80887797]\n",
            " [ 0.55562001  0.02473754 -0.14438462]\n",
            " [ 0.55179039  0.00385895 -0.17093468]\n",
            " [ 0.1388039   0.84538499  0.51497137]]\n",
            "time: 3.43 ms (started: 2022-06-10 13:05:38 +00:00)\n"
          ]
        }
      ]
    },
    {
      "cell_type": "code",
      "source": [
        "X_reduce = np.dot((X_std),matrix_w)\n",
        "print(X_reduce)\n",
        "print(type(X_reduce))"
      ],
      "metadata": {
        "colab": {
          "base_uri": "https://localhost:8080/"
        },
        "id": "r9UW8BJuU5Qy",
        "outputId": "534d6b59-da58-4cdf-d3c7-fd2a73981e49"
      },
      "execution_count": 203,
      "outputs": [
        {
          "output_type": "stream",
          "name": "stdout",
          "text": [
            "[[ 1.56207679  2.4644723  -1.4124361 ]\n",
            " [ 2.8010636  -0.46627365 -1.60092817]\n",
            " [ 2.84876769  0.59363682  0.08585125]\n",
            " ...\n",
            " [ 1.46986963 -1.78499745  0.90331942]\n",
            " [ 3.86552291  0.09399861  1.77196288]\n",
            " [-2.88347973 -3.32802642  0.19359216]]\n",
            "<class 'numpy.ndarray'>\n",
            "time: 4.81 ms (started: 2022-06-10 13:05:38 +00:00)\n"
          ]
        }
      ]
    },
    {
      "cell_type": "code",
      "source": [
        "df_reduce = pd.DataFrame(X_reduce, columns = ['Column_A','Column_B','Column_C'])\n",
        "x_reduce = df_reduce.iloc[:,0:4]\n",
        "sc_X_reduce = StandardScaler()\n",
        "X_std_reduce = sc_X_reduce.fit_transform(x_reduce)\n",
        "print(df_reduce)\n",
        "df_reduce.head()"
      ],
      "metadata": {
        "colab": {
          "base_uri": "https://localhost:8080/",
          "height": 474
        },
        "id": "HNyF2QDfVFQP",
        "outputId": "634f5701-a443-4ea1-b769-dc1a8d122f68"
      },
      "execution_count": 204,
      "outputs": [
        {
          "output_type": "stream",
          "name": "stdout",
          "text": [
            "     Column_A  Column_B  Column_C\n",
            "0    1.562077  2.464472 -1.412436\n",
            "1    2.801064 -0.466274 -1.600928\n",
            "2    2.848768  0.593637  0.085851\n",
            "3   -0.658477  2.624944  2.246609\n",
            "4    2.718517  0.897870 -1.661423\n",
            "..        ...       ...       ...\n",
            "564  3.929944  0.550143  0.053511\n",
            "565  3.322039 -0.983901  0.913880\n",
            "566  1.469870 -1.784997  0.903319\n",
            "567  3.865523  0.093999  1.771963\n",
            "568 -2.883480 -3.328026  0.193592\n",
            "\n",
            "[569 rows x 3 columns]\n"
          ]
        },
        {
          "output_type": "execute_result",
          "data": {
            "text/plain": [
              "   Column_A  Column_B  Column_C\n",
              "0  1.562077  2.464472 -1.412436\n",
              "1  2.801064 -0.466274 -1.600928\n",
              "2  2.848768  0.593637  0.085851\n",
              "3 -0.658477  2.624944  2.246609\n",
              "4  2.718517  0.897870 -1.661423"
            ],
            "text/html": [
              "\n",
              "  <div id=\"df-23a536bf-3899-4f4e-bb07-8e1c05579f45\">\n",
              "    <div class=\"colab-df-container\">\n",
              "      <div>\n",
              "<style scoped>\n",
              "    .dataframe tbody tr th:only-of-type {\n",
              "        vertical-align: middle;\n",
              "    }\n",
              "\n",
              "    .dataframe tbody tr th {\n",
              "        vertical-align: top;\n",
              "    }\n",
              "\n",
              "    .dataframe thead th {\n",
              "        text-align: right;\n",
              "    }\n",
              "</style>\n",
              "<table border=\"1\" class=\"dataframe\">\n",
              "  <thead>\n",
              "    <tr style=\"text-align: right;\">\n",
              "      <th></th>\n",
              "      <th>Column_A</th>\n",
              "      <th>Column_B</th>\n",
              "      <th>Column_C</th>\n",
              "    </tr>\n",
              "  </thead>\n",
              "  <tbody>\n",
              "    <tr>\n",
              "      <th>0</th>\n",
              "      <td>1.562077</td>\n",
              "      <td>2.464472</td>\n",
              "      <td>-1.412436</td>\n",
              "    </tr>\n",
              "    <tr>\n",
              "      <th>1</th>\n",
              "      <td>2.801064</td>\n",
              "      <td>-0.466274</td>\n",
              "      <td>-1.600928</td>\n",
              "    </tr>\n",
              "    <tr>\n",
              "      <th>2</th>\n",
              "      <td>2.848768</td>\n",
              "      <td>0.593637</td>\n",
              "      <td>0.085851</td>\n",
              "    </tr>\n",
              "    <tr>\n",
              "      <th>3</th>\n",
              "      <td>-0.658477</td>\n",
              "      <td>2.624944</td>\n",
              "      <td>2.246609</td>\n",
              "    </tr>\n",
              "    <tr>\n",
              "      <th>4</th>\n",
              "      <td>2.718517</td>\n",
              "      <td>0.897870</td>\n",
              "      <td>-1.661423</td>\n",
              "    </tr>\n",
              "  </tbody>\n",
              "</table>\n",
              "</div>\n",
              "      <button class=\"colab-df-convert\" onclick=\"convertToInteractive('df-23a536bf-3899-4f4e-bb07-8e1c05579f45')\"\n",
              "              title=\"Convert this dataframe to an interactive table.\"\n",
              "              style=\"display:none;\">\n",
              "        \n",
              "  <svg xmlns=\"http://www.w3.org/2000/svg\" height=\"24px\"viewBox=\"0 0 24 24\"\n",
              "       width=\"24px\">\n",
              "    <path d=\"M0 0h24v24H0V0z\" fill=\"none\"/>\n",
              "    <path d=\"M18.56 5.44l.94 2.06.94-2.06 2.06-.94-2.06-.94-.94-2.06-.94 2.06-2.06.94zm-11 1L8.5 8.5l.94-2.06 2.06-.94-2.06-.94L8.5 2.5l-.94 2.06-2.06.94zm10 10l.94 2.06.94-2.06 2.06-.94-2.06-.94-.94-2.06-.94 2.06-2.06.94z\"/><path d=\"M17.41 7.96l-1.37-1.37c-.4-.4-.92-.59-1.43-.59-.52 0-1.04.2-1.43.59L10.3 9.45l-7.72 7.72c-.78.78-.78 2.05 0 2.83L4 21.41c.39.39.9.59 1.41.59.51 0 1.02-.2 1.41-.59l7.78-7.78 2.81-2.81c.8-.78.8-2.07 0-2.86zM5.41 20L4 18.59l7.72-7.72 1.47 1.35L5.41 20z\"/>\n",
              "  </svg>\n",
              "      </button>\n",
              "      \n",
              "  <style>\n",
              "    .colab-df-container {\n",
              "      display:flex;\n",
              "      flex-wrap:wrap;\n",
              "      gap: 12px;\n",
              "    }\n",
              "\n",
              "    .colab-df-convert {\n",
              "      background-color: #E8F0FE;\n",
              "      border: none;\n",
              "      border-radius: 50%;\n",
              "      cursor: pointer;\n",
              "      display: none;\n",
              "      fill: #1967D2;\n",
              "      height: 32px;\n",
              "      padding: 0 0 0 0;\n",
              "      width: 32px;\n",
              "    }\n",
              "\n",
              "    .colab-df-convert:hover {\n",
              "      background-color: #E2EBFA;\n",
              "      box-shadow: 0px 1px 2px rgba(60, 64, 67, 0.3), 0px 1px 3px 1px rgba(60, 64, 67, 0.15);\n",
              "      fill: #174EA6;\n",
              "    }\n",
              "\n",
              "    [theme=dark] .colab-df-convert {\n",
              "      background-color: #3B4455;\n",
              "      fill: #D2E3FC;\n",
              "    }\n",
              "\n",
              "    [theme=dark] .colab-df-convert:hover {\n",
              "      background-color: #434B5C;\n",
              "      box-shadow: 0px 1px 3px 1px rgba(0, 0, 0, 0.15);\n",
              "      filter: drop-shadow(0px 1px 2px rgba(0, 0, 0, 0.3));\n",
              "      fill: #FFFFFF;\n",
              "    }\n",
              "  </style>\n",
              "\n",
              "      <script>\n",
              "        const buttonEl =\n",
              "          document.querySelector('#df-23a536bf-3899-4f4e-bb07-8e1c05579f45 button.colab-df-convert');\n",
              "        buttonEl.style.display =\n",
              "          google.colab.kernel.accessAllowed ? 'block' : 'none';\n",
              "\n",
              "        async function convertToInteractive(key) {\n",
              "          const element = document.querySelector('#df-23a536bf-3899-4f4e-bb07-8e1c05579f45');\n",
              "          const dataTable =\n",
              "            await google.colab.kernel.invokeFunction('convertToInteractive',\n",
              "                                                     [key], {});\n",
              "          if (!dataTable) return;\n",
              "\n",
              "          const docLinkHtml = 'Like what you see? Visit the ' +\n",
              "            '<a target=\"_blank\" href=https://colab.research.google.com/notebooks/data_table.ipynb>data table notebook</a>'\n",
              "            + ' to learn more about interactive tables.';\n",
              "          element.innerHTML = '';\n",
              "          dataTable['output_type'] = 'display_data';\n",
              "          await google.colab.output.renderOutput(dataTable, element);\n",
              "          const docLink = document.createElement('div');\n",
              "          docLink.innerHTML = docLinkHtml;\n",
              "          element.appendChild(docLink);\n",
              "        }\n",
              "      </script>\n",
              "    </div>\n",
              "  </div>\n",
              "  "
            ]
          },
          "metadata": {},
          "execution_count": 204
        },
        {
          "output_type": "stream",
          "name": "stdout",
          "text": [
            "time: 26.6 ms (started: 2022-06-10 13:05:38 +00:00)\n"
          ]
        }
      ]
    },
    {
      "cell_type": "code",
      "source": [
        "df_reduce['diagnosis'] = df['diagnosis']\n",
        "x_reduce = df_reduce.iloc[:,0:3]\n",
        "print(x_reduce)"
      ],
      "metadata": {
        "id": "gJrFBwqvXTHs",
        "colab": {
          "base_uri": "https://localhost:8080/"
        },
        "outputId": "63668d8b-e103-4721-f11d-750233709a40"
      },
      "execution_count": 205,
      "outputs": [
        {
          "output_type": "stream",
          "name": "stdout",
          "text": [
            "     Column_A  Column_B  Column_C\n",
            "0    1.562077  2.464472 -1.412436\n",
            "1    2.801064 -0.466274 -1.600928\n",
            "2    2.848768  0.593637  0.085851\n",
            "3   -0.658477  2.624944  2.246609\n",
            "4    2.718517  0.897870 -1.661423\n",
            "..        ...       ...       ...\n",
            "564  3.929944  0.550143  0.053511\n",
            "565  3.322039 -0.983901  0.913880\n",
            "566  1.469870 -1.784997  0.903319\n",
            "567  3.865523  0.093999  1.771963\n",
            "568 -2.883480 -3.328026  0.193592\n",
            "\n",
            "[569 rows x 3 columns]\n",
            "time: 9.21 ms (started: 2022-06-10 13:05:38 +00:00)\n"
          ]
        }
      ]
    },
    {
      "cell_type": "code",
      "source": [
        "train_reduce = df_reduce.sample(frac = 0.8, random_state = 1)\n",
        "test_reduce = df_reduce.drop(train.index)\n",
        "\n",
        "y_train_reduce= train_reduce[\"diagnosis\"]\n",
        "x_train_reduce = train_reduce.drop(\"diagnosis\", axis = 1)\n",
        "\n",
        "y_test_reduce = test_reduce[\"diagnosis\"]\n",
        "x_test_reduce = test_reduce.drop(\"diagnosis\", axis = 1)\n",
        "\n",
        "means = train_reduce.groupby([\"diagnosis\"]).mean() # Estimate mean of each class, feature\n",
        "var = train_reduce.groupby([\"diagnosis\"]).var() # Estimate variance of each class, feature\n",
        "prior = (train_reduce.groupby(\"diagnosis\").count() / len(train_reduce)).iloc[:,1] # Estimate prior probabilities\n",
        "classes = np.unique(train_reduce[\"diagnosis\"].tolist()) # Storing all possible classes\n",
        "\n",
        "PredictTrain = Predict(x_train_reduce,x_train_reduce)\n",
        "PredictTest = Predict(x_test_reduce,x_test_reduce)\n",
        "\n",
        "print(confusion_matrix(y_test_reduce, PredictTest))\n",
        "print(Accuracy(y_test_reduce, PredictTest))"
      ],
      "metadata": {
        "id": "Qnzml-RuXj9H",
        "colab": {
          "base_uri": "https://localhost:8080/"
        },
        "outputId": "464dfa34-4454-41d3-f9c3-d8cfe669d99d"
      },
      "execution_count": 206,
      "outputs": [
        {
          "output_type": "stream",
          "name": "stdout",
          "text": [
            "[[35 10]\n",
            " [ 1 68]]\n",
            "0.9035087719298246\n",
            "time: 252 ms (started: 2022-06-10 13:05:38 +00:00)\n"
          ]
        }
      ]
    },
    {
      "cell_type": "code",
      "source": [
        "df.corr()"
      ],
      "metadata": {
        "colab": {
          "base_uri": "https://localhost:8080/",
          "height": 255
        },
        "id": "b2l000R9xrsB",
        "outputId": "2ee85b67-0f5a-4389-cdef-9d784c4d8fd6"
      },
      "execution_count": 207,
      "outputs": [
        {
          "output_type": "execute_result",
          "data": {
            "text/plain": [
              "                 mean_radius  mean_texture  mean_perimeter  mean_area  \\\n",
              "mean_radius         1.000000      0.323782        0.997855   0.987357   \n",
              "mean_texture        0.323782      1.000000        0.329533   0.321086   \n",
              "mean_perimeter      0.997855      0.329533        1.000000   0.986507   \n",
              "mean_area           0.987357      0.321086        0.986507   1.000000   \n",
              "mean_smoothness     0.170581     -0.023389        0.207278   0.177028   \n",
              "diagnosis          -0.730029     -0.415185       -0.742636  -0.708984   \n",
              "\n",
              "                 mean_smoothness  diagnosis  \n",
              "mean_radius             0.170581  -0.730029  \n",
              "mean_texture           -0.023389  -0.415185  \n",
              "mean_perimeter          0.207278  -0.742636  \n",
              "mean_area               0.177028  -0.708984  \n",
              "mean_smoothness         1.000000  -0.358560  \n",
              "diagnosis              -0.358560   1.000000  "
            ],
            "text/html": [
              "\n",
              "  <div id=\"df-707eed9a-ded1-45a0-a7fd-e9e187b5db7c\">\n",
              "    <div class=\"colab-df-container\">\n",
              "      <div>\n",
              "<style scoped>\n",
              "    .dataframe tbody tr th:only-of-type {\n",
              "        vertical-align: middle;\n",
              "    }\n",
              "\n",
              "    .dataframe tbody tr th {\n",
              "        vertical-align: top;\n",
              "    }\n",
              "\n",
              "    .dataframe thead th {\n",
              "        text-align: right;\n",
              "    }\n",
              "</style>\n",
              "<table border=\"1\" class=\"dataframe\">\n",
              "  <thead>\n",
              "    <tr style=\"text-align: right;\">\n",
              "      <th></th>\n",
              "      <th>mean_radius</th>\n",
              "      <th>mean_texture</th>\n",
              "      <th>mean_perimeter</th>\n",
              "      <th>mean_area</th>\n",
              "      <th>mean_smoothness</th>\n",
              "      <th>diagnosis</th>\n",
              "    </tr>\n",
              "  </thead>\n",
              "  <tbody>\n",
              "    <tr>\n",
              "      <th>mean_radius</th>\n",
              "      <td>1.000000</td>\n",
              "      <td>0.323782</td>\n",
              "      <td>0.997855</td>\n",
              "      <td>0.987357</td>\n",
              "      <td>0.170581</td>\n",
              "      <td>-0.730029</td>\n",
              "    </tr>\n",
              "    <tr>\n",
              "      <th>mean_texture</th>\n",
              "      <td>0.323782</td>\n",
              "      <td>1.000000</td>\n",
              "      <td>0.329533</td>\n",
              "      <td>0.321086</td>\n",
              "      <td>-0.023389</td>\n",
              "      <td>-0.415185</td>\n",
              "    </tr>\n",
              "    <tr>\n",
              "      <th>mean_perimeter</th>\n",
              "      <td>0.997855</td>\n",
              "      <td>0.329533</td>\n",
              "      <td>1.000000</td>\n",
              "      <td>0.986507</td>\n",
              "      <td>0.207278</td>\n",
              "      <td>-0.742636</td>\n",
              "    </tr>\n",
              "    <tr>\n",
              "      <th>mean_area</th>\n",
              "      <td>0.987357</td>\n",
              "      <td>0.321086</td>\n",
              "      <td>0.986507</td>\n",
              "      <td>1.000000</td>\n",
              "      <td>0.177028</td>\n",
              "      <td>-0.708984</td>\n",
              "    </tr>\n",
              "    <tr>\n",
              "      <th>mean_smoothness</th>\n",
              "      <td>0.170581</td>\n",
              "      <td>-0.023389</td>\n",
              "      <td>0.207278</td>\n",
              "      <td>0.177028</td>\n",
              "      <td>1.000000</td>\n",
              "      <td>-0.358560</td>\n",
              "    </tr>\n",
              "    <tr>\n",
              "      <th>diagnosis</th>\n",
              "      <td>-0.730029</td>\n",
              "      <td>-0.415185</td>\n",
              "      <td>-0.742636</td>\n",
              "      <td>-0.708984</td>\n",
              "      <td>-0.358560</td>\n",
              "      <td>1.000000</td>\n",
              "    </tr>\n",
              "  </tbody>\n",
              "</table>\n",
              "</div>\n",
              "      <button class=\"colab-df-convert\" onclick=\"convertToInteractive('df-707eed9a-ded1-45a0-a7fd-e9e187b5db7c')\"\n",
              "              title=\"Convert this dataframe to an interactive table.\"\n",
              "              style=\"display:none;\">\n",
              "        \n",
              "  <svg xmlns=\"http://www.w3.org/2000/svg\" height=\"24px\"viewBox=\"0 0 24 24\"\n",
              "       width=\"24px\">\n",
              "    <path d=\"M0 0h24v24H0V0z\" fill=\"none\"/>\n",
              "    <path d=\"M18.56 5.44l.94 2.06.94-2.06 2.06-.94-2.06-.94-.94-2.06-.94 2.06-2.06.94zm-11 1L8.5 8.5l.94-2.06 2.06-.94-2.06-.94L8.5 2.5l-.94 2.06-2.06.94zm10 10l.94 2.06.94-2.06 2.06-.94-2.06-.94-.94-2.06-.94 2.06-2.06.94z\"/><path d=\"M17.41 7.96l-1.37-1.37c-.4-.4-.92-.59-1.43-.59-.52 0-1.04.2-1.43.59L10.3 9.45l-7.72 7.72c-.78.78-.78 2.05 0 2.83L4 21.41c.39.39.9.59 1.41.59.51 0 1.02-.2 1.41-.59l7.78-7.78 2.81-2.81c.8-.78.8-2.07 0-2.86zM5.41 20L4 18.59l7.72-7.72 1.47 1.35L5.41 20z\"/>\n",
              "  </svg>\n",
              "      </button>\n",
              "      \n",
              "  <style>\n",
              "    .colab-df-container {\n",
              "      display:flex;\n",
              "      flex-wrap:wrap;\n",
              "      gap: 12px;\n",
              "    }\n",
              "\n",
              "    .colab-df-convert {\n",
              "      background-color: #E8F0FE;\n",
              "      border: none;\n",
              "      border-radius: 50%;\n",
              "      cursor: pointer;\n",
              "      display: none;\n",
              "      fill: #1967D2;\n",
              "      height: 32px;\n",
              "      padding: 0 0 0 0;\n",
              "      width: 32px;\n",
              "    }\n",
              "\n",
              "    .colab-df-convert:hover {\n",
              "      background-color: #E2EBFA;\n",
              "      box-shadow: 0px 1px 2px rgba(60, 64, 67, 0.3), 0px 1px 3px 1px rgba(60, 64, 67, 0.15);\n",
              "      fill: #174EA6;\n",
              "    }\n",
              "\n",
              "    [theme=dark] .colab-df-convert {\n",
              "      background-color: #3B4455;\n",
              "      fill: #D2E3FC;\n",
              "    }\n",
              "\n",
              "    [theme=dark] .colab-df-convert:hover {\n",
              "      background-color: #434B5C;\n",
              "      box-shadow: 0px 1px 3px 1px rgba(0, 0, 0, 0.15);\n",
              "      filter: drop-shadow(0px 1px 2px rgba(0, 0, 0, 0.3));\n",
              "      fill: #FFFFFF;\n",
              "    }\n",
              "  </style>\n",
              "\n",
              "      <script>\n",
              "        const buttonEl =\n",
              "          document.querySelector('#df-707eed9a-ded1-45a0-a7fd-e9e187b5db7c button.colab-df-convert');\n",
              "        buttonEl.style.display =\n",
              "          google.colab.kernel.accessAllowed ? 'block' : 'none';\n",
              "\n",
              "        async function convertToInteractive(key) {\n",
              "          const element = document.querySelector('#df-707eed9a-ded1-45a0-a7fd-e9e187b5db7c');\n",
              "          const dataTable =\n",
              "            await google.colab.kernel.invokeFunction('convertToInteractive',\n",
              "                                                     [key], {});\n",
              "          if (!dataTable) return;\n",
              "\n",
              "          const docLinkHtml = 'Like what you see? Visit the ' +\n",
              "            '<a target=\"_blank\" href=https://colab.research.google.com/notebooks/data_table.ipynb>data table notebook</a>'\n",
              "            + ' to learn more about interactive tables.';\n",
              "          element.innerHTML = '';\n",
              "          dataTable['output_type'] = 'display_data';\n",
              "          await google.colab.output.renderOutput(dataTable, element);\n",
              "          const docLink = document.createElement('div');\n",
              "          docLink.innerHTML = docLinkHtml;\n",
              "          element.appendChild(docLink);\n",
              "        }\n",
              "      </script>\n",
              "    </div>\n",
              "  </div>\n",
              "  "
            ]
          },
          "metadata": {},
          "execution_count": 207
        },
        {
          "output_type": "stream",
          "name": "stdout",
          "text": [
            "time: 21.1 ms (started: 2022-06-10 13:05:38 +00:00)\n"
          ]
        }
      ]
    },
    {
      "cell_type": "code",
      "source": [
        "sns.heatmap(df.corr(),annot=True,fmt=\".2f\")"
      ],
      "metadata": {
        "colab": {
          "base_uri": "https://localhost:8080/",
          "height": 389
        },
        "id": "GgBJ4HLkxwmY",
        "outputId": "50e09625-7a08-4cfa-8125-27a112ad628f"
      },
      "execution_count": 208,
      "outputs": [
        {
          "output_type": "execute_result",
          "data": {
            "text/plain": [
              "<matplotlib.axes._subplots.AxesSubplot at 0x7fc13844a350>"
            ]
          },
          "metadata": {},
          "execution_count": 208
        },
        {
          "output_type": "display_data",
          "data": {
            "text/plain": [
              "<Figure size 432x288 with 2 Axes>"
            ],
            "image/png": "[encoded data removed]"
          },
          "metadata": {
            "needs_background": "light"
          }
        },
        {
          "output_type": "stream",
          "name": "stdout",
          "text": [
            "time: 495 ms (started: 2022-06-10 13:05:38 +00:00)\n"
          ]
        }
      ]
    }
  ]
}